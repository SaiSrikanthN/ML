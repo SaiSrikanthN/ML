{
 "cells": [
  {
   "cell_type": "code",
   "execution_count": 5,
   "id": "c2e4acb6",
   "metadata": {},
   "outputs": [
    {
     "name": "stdout",
     "output_type": "stream",
     "text": [
      "[19, 19, 20, 22, 24, 24, 24, 25, 25, 26]\n",
      "19\n",
      "26\n",
      "Length= 10\n",
      "median is: 24.0\n",
      "Average= 22.8\n",
      "7\n"
     ]
    }
   ],
   "source": [
    "ages = [19,22,19,24,20,25,26,24,25,24]\n",
    "ages.sort() #sorting the list\n",
    "sum=0\n",
    "print(ages)\n",
    "print(min(ages))\n",
    "print(max(ages))\n",
    "n=len(ages) #length of the list ages\n",
    "print(\"Length=\",n)\n",
    "if n%2==0:\n",
    "    median1=ages[n//2-1]\n",
    "    median2=ages[n//2]\n",
    "    median = (median1+median2)/2 #formula for finding median\n",
    "else:\n",
    "    median = ages[n//2]\n",
    "print(\"median is: \"+ str(median))\n",
    "for i in range(len(ages)):\n",
    "    sum = sum + ages[i]\n",
    "average=sum/n\n",
    "print(\"Average=\",average)\n",
    "print(max(ages) - min(ages))"
   ]
  },
  {
   "cell_type": "code",
   "execution_count": 7,
   "id": "b3da143f",
   "metadata": {},
   "outputs": [
    {
     "name": "stdout",
     "output_type": "stream",
     "text": [
      "{}\n",
      "{'Name': 'Mittu', 'Color': 'Black', 'Breed': 'puppy', 'Legs': '4', 'Age': '4'}\n",
      "{'first_name': 'Srikanth', 'last_name': 'Narina', 'gender': 'Male', 'age': '25', 'marital status': 'Single', 'skills': 'Reading', 'country': 'India', 'city': 'Hyderabad', 'address': 'KPHB'}\n",
      "9\n",
      "Reading\n",
      "<class 'str'>\n",
      "{'first_name': 'Srikanth', 'last_name': 'Narina', 'gender': 'Male', 'age': '25', 'marital status': 'Single', 'skills': ('cycling', 'music'), 'country': 'India', 'city': 'Hyderabad', 'address': 'KPHB'}\n",
      "dict_keys(['first_name', 'last_name', 'gender', 'age', 'marital status', 'skills', 'country', 'city', 'address'])\n",
      "dict_values(['Srikanth', 'Narina', 'Male', '25', 'Single', ('cycling', 'music'), 'India', 'Hyderabad', 'KPHB'])\n"
     ]
    }
   ],
   "source": [
    "dog = {} #creating an empty dictionary named dog\n",
    "print (dog) #printing the dictionary\n",
    "\n",
    "dog = {}  # creating an empty dictionary named dog\n",
    "dog = {'Name': 'Mittu', 'Color': 'Black', 'Breed': 'puppy', 'Legs': '4',\n",
    "       'Age': '4'}  # Adding Name,Color,Breed,Legs,Age to the dictionary\n",
    "print(dog)  # printing the dictionary\n",
    "\n",
    "student = {'first_name':'Srikanth', 'last_name':'Narina', 'gender':'Male', 'age':'25', 'marital status':'Single','skills':'Reading', 'country':'India', 'city':'Hyderabad', 'address':'KPHB'}\n",
    "print (student) #printing the student dictionary\n",
    "print(len(student)) #finding the length of the student dictionary using len function\n",
    "print(student['skills']) #Getting the value of skills\n",
    "print(type(student['skills'])) #checking the data type of skills\n",
    "student['skills']='cycling','music' #updating the skills\n",
    "print(student)\n",
    "keys = print(student.keys()) #getting the dictionary keys as list\n",
    "values = print(student.values()) #getting the dictionary values as list"
   ]
  },
  {
   "cell_type": "code",
   "execution_count": 8,
   "id": "bce2a903",
   "metadata": {},
   "outputs": [
    {
     "name": "stdout",
     "output_type": "stream",
     "text": [
      "4\n",
      "('raja', 'aditya', 'srinu', 'sarada')\n"
     ]
    }
   ],
   "source": [
    "brothers = ('raja','aditya') #creating a tuple with name brothers\n",
    "sisters = ('hari','satvi') #creating a tuple with name sisters\n",
    "siblings = (brothers + sisters) #joining both the tuples\n",
    "print(len(siblings)) #finding the lenght of the siblings\n",
    "fammembers = list(siblings) #converting siblings tuple to list\n",
    "fammembers[2] = 'srinu' #adding father name to tuple\n",
    "fammembers[3] = 'sarada' #adding mother name to tuple\n",
    "family_members = tuple(fammembers) #converting fammembers list to tuple and assigning it to family_members\n",
    "print(family_members)"
   ]
  },
  {
   "cell_type": "code",
   "execution_count": 9,
   "id": "60a27641",
   "metadata": {},
   "outputs": [
    {
     "name": "stdout",
     "output_type": "stream",
     "text": [
      "7\n",
      "{19, 20, 22, 24, 25, 26, 27, 28}\n",
      "{19, 20, 22, 24, 25, 26}\n",
      "True\n",
      "False\n",
      "{19, 20, 22, 24, 25, 26, 27, 28}\n",
      "{19, 20, 22, 24, 25, 26, 27, 28}\n",
      "{27, 28}\n",
      "True\n"
     ]
    }
   ],
   "source": [
    "it_companies = {'Facebook', 'Google', 'Microsoft', 'Apple', 'IBM', 'Oracle', 'Amazon'}\n",
    "A = {19, 22, 24, 20, 25, 26}\n",
    "B = {19, 22, 20, 25, 26, 24, 28, 27}\n",
    "age = [22, 19, 24, 25, 26, 24, 25, 24]\n",
    "print(len(it_companies)) #finding the length of the set\n",
    "it_companies.add('Twitter') #adding Twitter to the it_companies set\n",
    "it_companies.update(['TCS','Verizon','At&t']) #adding multiple companies to the set at once\n",
    "it_companies.remove('Oracle') #removing a company from the set\n",
    "print(A.union(B)) #joining A and B and printing the result\n",
    "print(A.intersection(B)) #finging A intersection B\n",
    "print(A.issubset(B)) #finding if A is subset of B\n",
    "print(A.isdisjoint(B)) #finding if A and B are disjoint\n",
    "print(A.union(B)) #joining A with B\n",
    "print(B.union(A)) #joining B with A\n",
    "print(A.symmetric_difference(B)) #symmetric difference between A and B\n",
    "del A #deleting the set A\n",
    "del B #deleting the set B\n",
    "ages=set(age) #converting age to set\n",
    "print(len(ages)<=len(age)) #comparing the length of set and list"
   ]
  },
  {
   "cell_type": "code",
   "execution_count": 10,
   "id": "08a7f52b",
   "metadata": {},
   "outputs": [
    {
     "name": "stdout",
     "output_type": "stream",
     "text": [
      "2826.0\n",
      "188.4\n",
      "Enter the radius of the circle7\n",
      "153.86\n"
     ]
    }
   ],
   "source": [
    "\n",
    "radius = 30 #Initiating the radius as 30\n",
    "_area_of_circle = 3.14 * radius ** 2 #calculating the area of the circle using area formula\n",
    "print(_area_of_circle) #printing the area of the circle\n",
    "circum_of_circle = 2 * 3.14 * radius #calculating the circumference of the circle using formula\n",
    "print(circum_of_circle) #printing the circumference of the circle\n",
    "val = int(input('Enter the radius of the circle')) #Taking user input\n",
    "areaofthecircle = 3.14 * val ** 2 #calculating the area of the circle\n",
    "print(areaofthecircle) #printing the area of the circle"
   ]
  },
  {
   "cell_type": "code",
   "execution_count": 11,
   "id": "8b732153",
   "metadata": {},
   "outputs": [
    {
     "name": "stdout",
     "output_type": "stream",
     "text": [
      "10\n"
     ]
    }
   ],
   "source": [
    "sentence = \"I am a teacher and I love to inspire and teach people\"\n",
    "newtext = sentence.split(\" \") #using split method to get the unique words\n",
    "print(len(set(newtext))) #printing number of unique methods\n"
   ]
  },
  {
   "cell_type": "code",
   "execution_count": 12,
   "id": "45b06bf7",
   "metadata": {},
   "outputs": [
    {
     "name": "stdout",
     "output_type": "stream",
     "text": [
      "Name\tAge\tCountry\tCity\n",
      "Asabeneh\t250\tFinland\tHelsinki\n"
     ]
    }
   ],
   "source": [
    "print('Name\\tAge\\tCountry\\tCity') #printing words with tab escape sequence\n",
    "print('Asabeneh\\t250\\tFinland\\tHelsinki') #printing words with tab escape sequence"
   ]
  },
  {
   "cell_type": "code",
   "execution_count": 13,
   "id": "35bd4ef8",
   "metadata": {},
   "outputs": [
    {
     "name": "stdout",
     "output_type": "stream",
     "text": [
      "The area of a circle with radius 10 is 314 meters square.\n"
     ]
    }
   ],
   "source": [
    "radius = 10 #Initiating the radius\n",
    "area_of_circle = 3.14 * radius ** 2 #calculating the area of the circle using area formula\n",
    "print('The area of a circle with radius',radius,'is',int(area_of_circle),'meters square.')"
   ]
  },
  {
   "cell_type": "code",
   "execution_count": 14,
   "id": "016b0fd0",
   "metadata": {},
   "outputs": [
    {
     "name": "stdout",
     "output_type": "stream",
     "text": [
      "enter the number of students2\n",
      "enter the weight of the each student75\n",
      "enter the weight of the each student85\n",
      "[34.02, 38.56]\n"
     ]
    }
   ],
   "source": [
    "A=[] #creating an empty list to store the weights of students in kgs\n",
    "B=[] #creating an empty list to store the weights of students in lbs\n",
    "lbs = 0.453592 #initializing the lbs value\n",
    "N=int(input('enter the number of students')) #take the input from the user\n",
    "for i in range(N): #looping through the list of students\n",
    "    A.append(int(input('enter the weight of the each student'))) #appending the weights to the list\n",
    "for i in range(N):\n",
    "    B.append(round(lbs*A[i],2)) #converting the weights to list and appending to list B\n",
    "print(B) #printing the list B"
   ]
  },
  {
   "cell_type": "code",
   "execution_count": null,
   "id": "f1c7d1d7",
   "metadata": {},
   "outputs": [],
   "source": []
  }
 ],
 "metadata": {
  "kernelspec": {
   "display_name": "Python 3 (ipykernel)",
   "language": "python",
   "name": "python3"
  },
  "language_info": {
   "codemirror_mode": {
    "name": "ipython",
    "version": 3
   },
   "file_extension": ".py",
   "mimetype": "text/x-python",
   "name": "python",
   "nbconvert_exporter": "python",
   "pygments_lexer": "ipython3",
   "version": "3.9.12"
  }
 },
 "nbformat": 4,
 "nbformat_minor": 5
}
